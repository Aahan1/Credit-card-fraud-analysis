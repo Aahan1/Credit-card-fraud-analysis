{
 "cells": [
  {
   "cell_type": "code",
   "execution_count": 1,
   "id": "a176ce54",
   "metadata": {},
   "outputs": [
    {
     "name": "stdout",
     "output_type": "stream",
     "text": [
      "       Customer_Number    Customer_Status  Age Gender  Number_of_Dependents  \\\n",
      "0            768805383  Existing Customer   45      M                     3   \n",
      "1            818770008  Existing Customer   49      F                     5   \n",
      "2            713982108  Existing Customer   51      M                     3   \n",
      "3            769911858  Existing Customer   40      F                     4   \n",
      "4            709106358  Existing Customer   40      M                     3   \n",
      "...                ...                ...  ...    ...                   ...   \n",
      "10122        772366833  Existing Customer   50      M                     2   \n",
      "10123        710638233  Attrited Customer   41      M                     2   \n",
      "10124        716506083  Attrited Customer   44      F                     1   \n",
      "10125        717406983  Attrited Customer   30      M                     2   \n",
      "10126        714337233  Attrited Customer   43      F                     2   \n",
      "\n",
      "      Education_Level Marital_Status Income_Category Card_Category  \\\n",
      "0         High School        Married     $60K - $80K          Blue   \n",
      "1            Graduate         Single  Less than $40K          Blue   \n",
      "2            Graduate        Married    $80K - $120K          Blue   \n",
      "3         High School        Unknown  Less than $40K          Blue   \n",
      "4          Uneducated        Married     $60K - $80K          Blue   \n",
      "...               ...            ...             ...           ...   \n",
      "10122        Graduate         Single     $40K - $60K          Blue   \n",
      "10123         Unknown       Divorced     $40K - $60K          Blue   \n",
      "10124     High School        Married  Less than $40K          Blue   \n",
      "10125        Graduate        Unknown     $40K - $60K          Blue   \n",
      "10126        Graduate        Married  Less than $40K        Silver   \n",
      "\n",
      "       Months_on_Use  Credit_Limit  Yearly_Average_Balance  \\\n",
      "0                 39       12691.0                     777   \n",
      "1                 44        8256.0                     864   \n",
      "2                 36        3418.0                       0   \n",
      "3                 34        3313.0                    2517   \n",
      "4                 21        4716.0                       0   \n",
      "...              ...           ...                     ...   \n",
      "10122             40        4003.0                    1851   \n",
      "10123             25        4277.0                    2186   \n",
      "10124             36        5409.0                       0   \n",
      "10125             36        5281.0                       0   \n",
      "10126             25       10388.0                    1961   \n",
      "\n",
      "       Yearly_Transaction_Amount  Total_Transactions  \n",
      "0                           1144                  42  \n",
      "1                           1291                  33  \n",
      "2                           1887                  20  \n",
      "3                           1171                  20  \n",
      "4                            816                  28  \n",
      "...                          ...                 ...  \n",
      "10122                      15476                 117  \n",
      "10123                       8764                  69  \n",
      "10124                      10291                  60  \n",
      "10125                       8395                  62  \n",
      "10126                      10294                  61  \n",
      "\n",
      "[10127 rows x 14 columns]\n"
     ]
    }
   ],
   "source": [
    "import pandas as pd\n",
    "\n",
    "df = pd.read_csv('/Users/aahanmalik/Desktop/NUS/credit card .csv')\n",
    "print(df)"
   ]
  },
  {
   "cell_type": "code",
   "execution_count": 2,
   "id": "65b41bca",
   "metadata": {},
   "outputs": [],
   "source": [
    "import numpy as np\n",
    "import scipy.stats as stats\n",
    "import statsmodels.api as sm"
   ]
  },
  {
   "cell_type": "code",
   "execution_count": 3,
   "id": "2ac9196f",
   "metadata": {},
   "outputs": [
    {
     "name": "stdout",
     "output_type": "stream",
     "text": [
      "      Customer_Number    Customer_Status  Age Gender  Number_of_Dependents  \\\n",
      "7399        742572558  Existing Customer   32      F                     0   \n",
      "9882        770743983  Existing Customer   34      F                     3   \n",
      "5118        771222558  Existing Customer   45      F                     3   \n",
      "4407        793269933  Existing Customer   46      M                     3   \n",
      "3244        720781158  Existing Customer   44      F                     2   \n",
      "...               ...                ...  ...    ...                   ...   \n",
      "5883        769577358  Existing Customer   31      F                     0   \n",
      "368         819129858  Existing Customer   46      F                     2   \n",
      "5988        718267233  Existing Customer   50      M                     1   \n",
      "8673        774491958  Existing Customer   53      M                     3   \n",
      "407         709311633  Existing Customer   41      M                     2   \n",
      "\n",
      "     Education_Level Marital_Status  Income_Category Card_Category  \\\n",
      "7399     High School       Divorced          Unknown          Blue   \n",
      "9882      Uneducated         Single      $40K - $60K          Blue   \n",
      "5118        Graduate        Unknown   Less than $40K          Blue   \n",
      "4407        Graduate        Unknown      $60K - $80K        Silver   \n",
      "3244      Uneducated       Divorced      $40K - $60K          Blue   \n",
      "...              ...            ...              ...           ...   \n",
      "5883        Graduate         Single   Less than $40K          Blue   \n",
      "368         Graduate         Single   Less than $40K          Blue   \n",
      "5988        Graduate        Married  More than $120K        Silver   \n",
      "8673     High School         Single      $60K - $80K          Blue   \n",
      "407         Graduate        Unknown      $60K - $80K        Silver   \n",
      "\n",
      "      Months_on_Use  Credit_Limit  Yearly_Average_Balance  \\\n",
      "7399             25       12268.0                    1165   \n",
      "9882             20        8698.0                     874   \n",
      "5118             32        2900.0                    2018   \n",
      "4407             40       28829.0                       0   \n",
      "3244             27        5608.0                    1243   \n",
      "...             ...           ...                     ...   \n",
      "5883             17        2787.0                    1761   \n",
      "368              41        4745.0                    1270   \n",
      "5988             38       34516.0                    1915   \n",
      "8673             47        6228.0                    1738   \n",
      "407              36       27000.0                       0   \n",
      "\n",
      "      Yearly_Transaction_Amount  Total_Transactions  \n",
      "7399                       4905                  82  \n",
      "9882                      15683                  94  \n",
      "5118                       4467                  79  \n",
      "4407                       4540                  78  \n",
      "3244                       3829                  74  \n",
      "...                         ...                 ...  \n",
      "5883                       4358                  89  \n",
      "368                        1519                  31  \n",
      "5988                       3828                  65  \n",
      "8673                       8284                  77  \n",
      "407                        1209                  39  \n",
      "\n",
      "[1000 rows x 14 columns]\n"
     ]
    }
   ],
   "source": [
    "df_sub = df.sample(n=1000, random_state=35053)\n",
    "print(df_sub)"
   ]
  },
  {
   "cell_type": "code",
   "execution_count": 4,
   "id": "0fe257d4",
   "metadata": {},
   "outputs": [
    {
     "data": {
      "text/html": [
       "<div>\n",
       "<style scoped>\n",
       "    .dataframe tbody tr th:only-of-type {\n",
       "        vertical-align: middle;\n",
       "    }\n",
       "\n",
       "    .dataframe tbody tr th {\n",
       "        vertical-align: top;\n",
       "    }\n",
       "\n",
       "    .dataframe thead th {\n",
       "        text-align: right;\n",
       "    }\n",
       "</style>\n",
       "<table border=\"1\" class=\"dataframe\">\n",
       "  <thead>\n",
       "    <tr style=\"text-align: right;\">\n",
       "      <th></th>\n",
       "      <th>Customer_Number</th>\n",
       "      <th>Customer_Status</th>\n",
       "      <th>Age</th>\n",
       "      <th>Gender</th>\n",
       "      <th>Number_of_Dependents</th>\n",
       "      <th>Education_Level</th>\n",
       "      <th>Marital_Status</th>\n",
       "      <th>Income_Category</th>\n",
       "      <th>Card_Category</th>\n",
       "      <th>Months_on_Use</th>\n",
       "      <th>Credit_Limit</th>\n",
       "      <th>Yearly_Average_Balance</th>\n",
       "      <th>Yearly_Transaction_Amount</th>\n",
       "      <th>Total_Transactions</th>\n",
       "    </tr>\n",
       "  </thead>\n",
       "  <tbody>\n",
       "    <tr>\n",
       "      <th>7399</th>\n",
       "      <td>742572558</td>\n",
       "      <td>Existing Customer</td>\n",
       "      <td>32</td>\n",
       "      <td>F</td>\n",
       "      <td>0</td>\n",
       "      <td>High School</td>\n",
       "      <td>Divorced</td>\n",
       "      <td>Unknown</td>\n",
       "      <td>Blue</td>\n",
       "      <td>25</td>\n",
       "      <td>12268.0</td>\n",
       "      <td>1165</td>\n",
       "      <td>4905</td>\n",
       "      <td>82</td>\n",
       "    </tr>\n",
       "    <tr>\n",
       "      <th>9882</th>\n",
       "      <td>770743983</td>\n",
       "      <td>Existing Customer</td>\n",
       "      <td>34</td>\n",
       "      <td>F</td>\n",
       "      <td>3</td>\n",
       "      <td>Uneducated</td>\n",
       "      <td>Single</td>\n",
       "      <td>$40K - $60K</td>\n",
       "      <td>Blue</td>\n",
       "      <td>20</td>\n",
       "      <td>8698.0</td>\n",
       "      <td>874</td>\n",
       "      <td>15683</td>\n",
       "      <td>94</td>\n",
       "    </tr>\n",
       "    <tr>\n",
       "      <th>5118</th>\n",
       "      <td>771222558</td>\n",
       "      <td>Existing Customer</td>\n",
       "      <td>45</td>\n",
       "      <td>F</td>\n",
       "      <td>3</td>\n",
       "      <td>Graduate</td>\n",
       "      <td>Unknown</td>\n",
       "      <td>Less than $40K</td>\n",
       "      <td>Blue</td>\n",
       "      <td>32</td>\n",
       "      <td>2900.0</td>\n",
       "      <td>2018</td>\n",
       "      <td>4467</td>\n",
       "      <td>79</td>\n",
       "    </tr>\n",
       "    <tr>\n",
       "      <th>4407</th>\n",
       "      <td>793269933</td>\n",
       "      <td>Existing Customer</td>\n",
       "      <td>46</td>\n",
       "      <td>M</td>\n",
       "      <td>3</td>\n",
       "      <td>Graduate</td>\n",
       "      <td>Unknown</td>\n",
       "      <td>$60K - $80K</td>\n",
       "      <td>Silver</td>\n",
       "      <td>40</td>\n",
       "      <td>28829.0</td>\n",
       "      <td>0</td>\n",
       "      <td>4540</td>\n",
       "      <td>78</td>\n",
       "    </tr>\n",
       "    <tr>\n",
       "      <th>3244</th>\n",
       "      <td>720781158</td>\n",
       "      <td>Existing Customer</td>\n",
       "      <td>44</td>\n",
       "      <td>F</td>\n",
       "      <td>2</td>\n",
       "      <td>Uneducated</td>\n",
       "      <td>Divorced</td>\n",
       "      <td>$40K - $60K</td>\n",
       "      <td>Blue</td>\n",
       "      <td>27</td>\n",
       "      <td>5608.0</td>\n",
       "      <td>1243</td>\n",
       "      <td>3829</td>\n",
       "      <td>74</td>\n",
       "    </tr>\n",
       "  </tbody>\n",
       "</table>\n",
       "</div>"
      ],
      "text/plain": [
       "      Customer_Number    Customer_Status  Age Gender  Number_of_Dependents  \\\n",
       "7399        742572558  Existing Customer   32      F                     0   \n",
       "9882        770743983  Existing Customer   34      F                     3   \n",
       "5118        771222558  Existing Customer   45      F                     3   \n",
       "4407        793269933  Existing Customer   46      M                     3   \n",
       "3244        720781158  Existing Customer   44      F                     2   \n",
       "\n",
       "     Education_Level Marital_Status Income_Category Card_Category  \\\n",
       "7399     High School       Divorced         Unknown          Blue   \n",
       "9882      Uneducated         Single     $40K - $60K          Blue   \n",
       "5118        Graduate        Unknown  Less than $40K          Blue   \n",
       "4407        Graduate        Unknown     $60K - $80K        Silver   \n",
       "3244      Uneducated       Divorced     $40K - $60K          Blue   \n",
       "\n",
       "      Months_on_Use  Credit_Limit  Yearly_Average_Balance  \\\n",
       "7399             25       12268.0                    1165   \n",
       "9882             20        8698.0                     874   \n",
       "5118             32        2900.0                    2018   \n",
       "4407             40       28829.0                       0   \n",
       "3244             27        5608.0                    1243   \n",
       "\n",
       "      Yearly_Transaction_Amount  Total_Transactions  \n",
       "7399                       4905                  82  \n",
       "9882                      15683                  94  \n",
       "5118                       4467                  79  \n",
       "4407                       4540                  78  \n",
       "3244                       3829                  74  "
      ]
     },
     "execution_count": 4,
     "metadata": {},
     "output_type": "execute_result"
    }
   ],
   "source": [
    "df_sub.head()"
   ]
  },
  {
   "cell_type": "code",
   "execution_count": 5,
   "id": "a19615f3",
   "metadata": {},
   "outputs": [
    {
     "name": "stdout",
     "output_type": "stream",
     "text": [
      "Customer_Number              0\n",
      "Customer_Status              0\n",
      "Age                          0\n",
      "Gender                       0\n",
      "Number_of_Dependents         0\n",
      "Education_Level              0\n",
      "Marital_Status               0\n",
      "Income_Category              0\n",
      "Card_Category                0\n",
      "Months_on_Use                0\n",
      "Credit_Limit                 0\n",
      "Yearly_Average_Balance       0\n",
      "Yearly_Transaction_Amount    0\n",
      "Total_Transactions           0\n",
      "dtype: int64\n",
      "       Customer_Number          Age  Number_of_Dependents  Months_on_Use  \\\n",
      "count     1.000000e+03  1000.000000           1000.000000    1000.000000   \n",
      "mean      7.381971e+08    46.094000              2.319000      35.820000   \n",
      "std       3.625733e+07     8.134946              1.292637       7.945989   \n",
      "min       7.081343e+08    26.000000              0.000000      13.000000   \n",
      "25%       7.131694e+08    41.000000              1.000000      31.000000   \n",
      "50%       7.178568e+08    46.000000              2.000000      36.000000   \n",
      "75%       7.718042e+08    52.000000              3.000000      40.000000   \n",
      "max       8.282274e+08    65.000000              5.000000      56.000000   \n",
      "\n",
      "       Credit_Limit  Yearly_Average_Balance  Yearly_Transaction_Amount  \\\n",
      "count   1000.000000             1000.000000                1000.000000   \n",
      "mean    8860.209100             1141.649000                4307.101000   \n",
      "std     9278.715112              803.545281                3267.068164   \n",
      "min     1438.300000                0.000000                 530.000000   \n",
      "25%     2627.500000              444.250000                2131.750000   \n",
      "50%     4695.000000             1252.500000                3829.000000   \n",
      "75%    11350.000000             1756.750000                4680.500000   \n",
      "max    34516.000000             2517.000000               16737.000000   \n",
      "\n",
      "       Total_Transactions  \n",
      "count          1000.00000  \n",
      "mean             64.75400  \n",
      "std              23.40708  \n",
      "min              10.00000  \n",
      "25%              45.00000  \n",
      "50%              66.50000  \n",
      "75%              80.00000  \n",
      "max             132.00000  \n"
     ]
    }
   ],
   "source": [
    "print(df_sub.isnull().sum())\n",
    "\n",
    "# Descriptive statistics\n",
    "print(df_sub.describe())"
   ]
  },
  {
   "cell_type": "code",
   "execution_count": 6,
   "id": "fac10cd1",
   "metadata": {},
   "outputs": [
    {
     "name": "stdout",
     "output_type": "stream",
     "text": [
      "      Customer_Number    Customer_Status  Age Gender  Number_of_Dependents  \\\n",
      "7399        742572558  Existing Customer   32      F                     0   \n",
      "9882        770743983  Existing Customer   34      F                     3   \n",
      "5118        771222558  Existing Customer   45      F                     3   \n",
      "4407        793269933  Existing Customer   46      M                     3   \n",
      "3244        720781158  Existing Customer   44      F                     2   \n",
      "...               ...                ...  ...    ...                   ...   \n",
      "5883        769577358  Existing Customer   31      F                     0   \n",
      "368         819129858  Existing Customer   46      F                     2   \n",
      "5988        718267233  Existing Customer   50      M                     1   \n",
      "8673        774491958  Existing Customer   53      M                     3   \n",
      "407         709311633  Existing Customer   41      M                     2   \n",
      "\n",
      "     Education_Level Marital_Status  Income_Category Card_Category  \\\n",
      "7399     High School       Divorced          Unknown          Blue   \n",
      "9882      Uneducated         Single      $40K - $60K          Blue   \n",
      "5118        Graduate        Unknown   Less than $40K          Blue   \n",
      "4407        Graduate        Unknown      $60K - $80K        Silver   \n",
      "3244      Uneducated       Divorced      $40K - $60K          Blue   \n",
      "...              ...            ...              ...           ...   \n",
      "5883        Graduate         Single   Less than $40K          Blue   \n",
      "368         Graduate         Single   Less than $40K          Blue   \n",
      "5988        Graduate        Married  More than $120K        Silver   \n",
      "8673     High School         Single      $60K - $80K          Blue   \n",
      "407         Graduate        Unknown      $60K - $80K        Silver   \n",
      "\n",
      "      Months_on_Use  Credit_Limit  Yearly_Average_Balance  \\\n",
      "7399             25       12268.0                    1165   \n",
      "9882             20        8698.0                     874   \n",
      "5118             32        2900.0                    2018   \n",
      "4407             40       28829.0                       0   \n",
      "3244             27        5608.0                    1243   \n",
      "...             ...           ...                     ...   \n",
      "5883             17        2787.0                    1761   \n",
      "368              41        4745.0                    1270   \n",
      "5988             38       34516.0                    1915   \n",
      "8673             47        6228.0                    1738   \n",
      "407              36       27000.0                       0   \n",
      "\n",
      "      Yearly_Transaction_Amount  Total_Transactions  Attrition_flag  \n",
      "7399                       4905                  82               0  \n",
      "9882                      15683                  94               0  \n",
      "5118                       4467                  79               0  \n",
      "4407                       4540                  78               0  \n",
      "3244                       3829                  74               0  \n",
      "...                         ...                 ...             ...  \n",
      "5883                       4358                  89               0  \n",
      "368                        1519                  31               0  \n",
      "5988                       3828                  65               0  \n",
      "8673                       8284                  77               0  \n",
      "407                        1209                  39               0  \n",
      "\n",
      "[1000 rows x 15 columns]\n"
     ]
    }
   ],
   "source": [
    "type_col = df_sub[\"Customer_Status\"].tolist()\n",
    "\n",
    "for i in range(len(type_col)):\n",
    "    if(type_col[i]=='Existing Customer'):\n",
    "        type_col[i]=0\n",
    "    elif(type_col[i]=='Attrited Customer'):\n",
    "        type_col[i]=1\n",
    "        \n",
    "df_sub[\"Attrition_flag\"]= type_col\n",
    "\n",
    "print(df_sub)"
   ]
  },
  {
   "cell_type": "code",
   "execution_count": 7,
   "id": "1d0c0fca",
   "metadata": {},
   "outputs": [
    {
     "name": "stdout",
     "output_type": "stream",
     "text": [
      "       Card_Category Gender Education_Level Marital_Status Income_Category\n",
      "count           1000   1000            1000           1000            1000\n",
      "unique             4      2               7              4               6\n",
      "top             Blue      F        Graduate        Married  Less than $40K\n",
      "freq             932    524             330            440             348\n"
     ]
    },
    {
     "data": {
      "image/png": "[encoded data removed]",
      "text/plain": [
       "<Figure size 640x480 with 1 Axes>"
      ]
     },
     "metadata": {},
     "output_type": "display_data"
    },
    {
     "data": {
      "image/png": "[encoded data removed]",
      "text/plain": [
       "<Figure size 640x480 with 1 Axes>"
      ]
     },
     "metadata": {},
     "output_type": "display_data"
    },
    {
     "data": {
      "image/png": "[encoded data removed]",
      "text/plain": [
       "<Figure size 640x480 with 1 Axes>"
      ]
     },
     "metadata": {},
     "output_type": "display_data"
    },
    {
     "data": {
      "image/png": "[encoded data removed]",
      "text/plain": [
       "<Figure size 640x480 with 1 Axes>"
      ]
     },
     "metadata": {},
     "output_type": "display_data"
    },
    {
     "data": {
      "image/png": "[encoded data removed]",
      "text/plain": [
       "<Figure size 640x480 with 1 Axes>"
      ]
     },
     "metadata": {},
     "output_type": "display_data"
    }
   ],
   "source": [
    "import statsmodels.api as sm\n",
    "import seaborn as sns\n",
    "import matplotlib.pyplot as plt\n",
    "\n",
    "\n",
    "# Identify categorical and non-categorical variables\n",
    "df_cat_vars = ['Card_Category', 'Gender', 'Education_Level', 'Marital_Status', 'Income_Category']\n",
    "df_noncat_vars = ['Customer_Number', 'Age', 'Number_of_Dependents', 'Months_on_Use', \n",
    "                  'Credit_Limit', 'Yearly_Average_Balance','Yearly_Transaction_Amount','Total_Transactions']\n",
    "\n",
    "# Descriptive statistics of categorical variables\n",
    "print(df_sub[df_cat_vars].describe())\n",
    "\n",
    "# Count plots of categorical variables\n",
    "for Card_Category in df_cat_vars:\n",
    "    plt.figure()\n",
    "    sns.countplot(data=df_sub, x=Card_Category)\n",
    "    plt.title(Card_Category)\n",
    "    plt.show()\n"
   ]
  },
  {
   "cell_type": "code",
   "execution_count": 8,
   "id": "81404e41",
   "metadata": {},
   "outputs": [
    {
     "name": "stdout",
     "output_type": "stream",
     "text": [
      "       Customer_Number          Age  Number_of_Dependents  Months_on_Use  \\\n",
      "count     1.000000e+03  1000.000000           1000.000000    1000.000000   \n",
      "mean      7.381971e+08    46.094000              2.319000      35.820000   \n",
      "std       3.625733e+07     8.134946              1.292637       7.945989   \n",
      "min       7.081343e+08    26.000000              0.000000      13.000000   \n",
      "25%       7.131694e+08    41.000000              1.000000      31.000000   \n",
      "50%       7.178568e+08    46.000000              2.000000      36.000000   \n",
      "75%       7.718042e+08    52.000000              3.000000      40.000000   \n",
      "max       8.282274e+08    65.000000              5.000000      56.000000   \n",
      "\n",
      "       Credit_Limit  Yearly_Average_Balance  Yearly_Transaction_Amount  \\\n",
      "count   1000.000000             1000.000000                1000.000000   \n",
      "mean    8860.209100             1141.649000                4307.101000   \n",
      "std     9278.715112              803.545281                3267.068164   \n",
      "min     1438.300000                0.000000                 530.000000   \n",
      "25%     2627.500000              444.250000                2131.750000   \n",
      "50%     4695.000000             1252.500000                3829.000000   \n",
      "75%    11350.000000             1756.750000                4680.500000   \n",
      "max    34516.000000             2517.000000               16737.000000   \n",
      "\n",
      "       Total_Transactions  \n",
      "count          1000.00000  \n",
      "mean             64.75400  \n",
      "std              23.40708  \n",
      "min              10.00000  \n",
      "25%              45.00000  \n",
      "50%              66.50000  \n",
      "75%              80.00000  \n",
      "max             132.00000  \n"
     ]
    }
   ],
   "source": [
    "# Descriptive statistics of numeric variables\n",
    "print(df_sub[df_noncat_vars].describe())"
   ]
  },
  {
   "cell_type": "code",
   "execution_count": 9,
   "id": "57ce4240",
   "metadata": {},
   "outputs": [
    {
     "name": "stdout",
     "output_type": "stream",
     "text": [
      "Mean Credit Limit: 8860.209099999998\n",
      "Median Credit Limit: 4695.0\n",
      "Card_Category\n",
      "Blue        801.535808\n",
      "Gold        924.273041\n",
      "Platinum    607.241028\n",
      "Silver      821.862481\n",
      "Name: Yearly_Average_Balance, dtype: float64\n"
     ]
    }
   ],
   "source": [
    "# Mean and median of credit limit\n",
    "print(\"Mean Credit Limit:\", np.mean(df_sub['Credit_Limit']))\n",
    "print(\"Median Credit Limit:\", np.median(df_sub['Credit_Limit']))\n",
    "\n",
    "# Standard deviation of balance by card type\n",
    "print(df_sub.groupby('Card_Category')['Yearly_Average_Balance'].std())"
   ]
  },
  {
   "cell_type": "code",
   "execution_count": 10,
   "id": "3020410b",
   "metadata": {},
   "outputs": [
    {
     "name": "stdout",
     "output_type": "stream",
     "text": [
      "Blue        932\n",
      "Silver       53\n",
      "Gold         11\n",
      "Platinum      4\n",
      "Name: Card_Category, dtype: int64\n"
     ]
    }
   ],
   "source": [
    "# Count of customers by card type\n",
    "print(df_sub['Card_Category'].value_counts())"
   ]
  },
  {
   "cell_type": "code",
   "execution_count": 11,
   "id": "9f8358db",
   "metadata": {},
   "outputs": [
    {
     "data": {
      "image/png": "[encoded data removed]",
      "text/plain": [
       "<Figure size 640x480 with 1 Axes>"
      ]
     },
     "metadata": {},
     "output_type": "display_data"
    },
    {
     "data": {
      "image/png": "[encoded data removed]",
      "text/plain": [
       "<Figure size 640x480 with 1 Axes>"
      ]
     },
     "metadata": {},
     "output_type": "display_data"
    }
   ],
   "source": [
    "import matplotlib.pyplot as plt\n",
    "\n",
    "# Histogram of credit limit\n",
    "plt.hist(df_sub['Credit_Limit'], bins=20)\n",
    "plt.xlabel('Credit Limit')\n",
    "plt.ylabel('Frequency')\n",
    "plt.show()\n",
    "\n",
    "# Box plot of balance by card type\n",
    "df.boxplot(column='Yearly_Average_Balance', by='Card_Category')\n",
    "plt.xlabel('Card Type')\n",
    "plt.ylabel('Balance')\n",
    "plt.show()"
   ]
  },
  {
   "cell_type": "code",
   "execution_count": 12,
   "id": "1019a888",
   "metadata": {},
   "outputs": [
    {
     "name": "stdout",
     "output_type": "stream",
     "text": [
      "t-statistic: -1.4161254368573941\n",
      "p-value: 0.18660591659935677\n"
     ]
    }
   ],
   "source": [
    "# Two-sample t-test\n",
    "group1 = df_sub[df_sub['Card_Category']=='Blue']['Yearly_Average_Balance']\n",
    "group2 = df_sub[df_sub['Card_Category']=='Gold']['Yearly_Average_Balance']\n",
    "t_statistic, p_value = stats.ttest_ind(group1, group2, equal_var=False)\n",
    "print(\"t-statistic:\", t_statistic)\n",
    "print(\"p-value:\", p_value)"
   ]
  },
  {
   "cell_type": "code",
   "execution_count": 13,
   "id": "ea6d9460",
   "metadata": {},
   "outputs": [
    {
     "name": "stdout",
     "output_type": "stream",
     "text": [
      "       Customer_Number          Age  Number_of_Dependents  Months_on_Use  \\\n",
      "count     1.000000e+03  1000.000000           1000.000000    1000.000000   \n",
      "mean      7.381971e+08    46.094000              2.319000      35.820000   \n",
      "std       3.625733e+07     8.134946              1.292637       7.945989   \n",
      "min       7.081343e+08    26.000000              0.000000      13.000000   \n",
      "25%       7.131694e+08    41.000000              1.000000      31.000000   \n",
      "50%       7.178568e+08    46.000000              2.000000      36.000000   \n",
      "75%       7.718042e+08    52.000000              3.000000      40.000000   \n",
      "max       8.282274e+08    65.000000              5.000000      56.000000   \n",
      "\n",
      "       Credit_Limit  Yearly_Average_Balance  Yearly_Transaction_Amount  \\\n",
      "count   1000.000000             1000.000000                1000.000000   \n",
      "mean    8860.209100             1141.649000                4307.101000   \n",
      "std     9278.715112              803.545281                3267.068164   \n",
      "min     1438.300000                0.000000                 530.000000   \n",
      "25%     2627.500000              444.250000                2131.750000   \n",
      "50%     4695.000000             1252.500000                3829.000000   \n",
      "75%    11350.000000             1756.750000                4680.500000   \n",
      "max    34516.000000             2517.000000               16737.000000   \n",
      "\n",
      "       Total_Transactions  Attrition_flag  \n",
      "count          1000.00000     1000.000000  \n",
      "mean             64.75400        0.151000  \n",
      "std              23.40708        0.358228  \n",
      "min              10.00000        0.000000  \n",
      "25%              45.00000        0.000000  \n",
      "50%              66.50000        0.000000  \n",
      "75%              80.00000        0.000000  \n",
      "max             132.00000        1.000000  \n"
     ]
    },
    {
     "data": {
      "image/png": "[encoded data removed]",
      "text/plain": [
       "<Figure size 640x480 with 1 Axes>"
      ]
     },
     "metadata": {},
     "output_type": "display_data"
    }
   ],
   "source": [
    "# explore dataset\n",
    "print(df_sub.describe())\n",
    "plt.hist(df_sub['Age'])\n",
    "plt.show()"
   ]
  },
  {
   "cell_type": "code",
   "execution_count": 14,
   "id": "d70f270c",
   "metadata": {},
   "outputs": [
    {
     "name": "stdout",
     "output_type": "stream",
     "text": [
      "                           Customer_Number       Age  Number_of_Dependents  \\\n",
      "Customer_Number                   1.000000  0.019524              0.036441   \n",
      "Age                               0.019524  1.000000             -0.091574   \n",
      "Number_of_Dependents              0.036441 -0.091574              1.000000   \n",
      "Months_on_Use                     0.142494  0.774069             -0.096441   \n",
      "Credit_Limit                      0.004045  0.008141              0.072801   \n",
      "Yearly_Average_Balance            0.038443  0.002521              0.016744   \n",
      "Yearly_Transaction_Amount        -0.041399 -0.044134             -0.048127   \n",
      "Total_Transactions               -0.038156 -0.049809             -0.012655   \n",
      "Attrition_flag                   -0.015192  0.043557              0.062324   \n",
      "\n",
      "                           Months_on_Use  Credit_Limit  \\\n",
      "Customer_Number                 0.142494      0.004045   \n",
      "Age                             0.774069      0.008141   \n",
      "Number_of_Dependents           -0.096441      0.072801   \n",
      "Months_on_Use                   1.000000      0.003699   \n",
      "Credit_Limit                    0.003699      1.000000   \n",
      "Yearly_Average_Balance          0.014424      0.067484   \n",
      "Yearly_Transaction_Amount      -0.010591      0.177056   \n",
      "Total_Transactions             -0.025899      0.080751   \n",
      "Attrition_flag                  0.074616     -0.006297   \n",
      "\n",
      "                           Yearly_Average_Balance  Yearly_Transaction_Amount  \\\n",
      "Customer_Number                          0.038443                  -0.041399   \n",
      "Age                                      0.002521                  -0.044134   \n",
      "Number_of_Dependents                     0.016744                  -0.048127   \n",
      "Months_on_Use                            0.014424                  -0.010591   \n",
      "Credit_Limit                             0.067484                   0.177056   \n",
      "Yearly_Average_Balance                   1.000000                   0.120462   \n",
      "Yearly_Transaction_Amount                0.120462                   1.000000   \n",
      "Total_Transactions                       0.108552                   0.811012   \n",
      "Attrition_flag                          -0.342726                  -0.162885   \n",
      "\n",
      "                           Total_Transactions  Attrition_flag  \n",
      "Customer_Number                     -0.038156       -0.015192  \n",
      "Age                                 -0.049809        0.043557  \n",
      "Number_of_Dependents                -0.012655        0.062324  \n",
      "Months_on_Use                       -0.025899        0.074616  \n",
      "Credit_Limit                         0.080751       -0.006297  \n",
      "Yearly_Average_Balance               0.108552       -0.342726  \n",
      "Yearly_Transaction_Amount            0.811012       -0.162885  \n",
      "Total_Transactions                   1.000000       -0.346898  \n",
      "Attrition_flag                      -0.346898        1.000000  \n"
     ]
    }
   ],
   "source": [
    "print(df_sub.corr())"
   ]
  },
  {
   "cell_type": "code",
   "execution_count": 15,
   "id": "8d205bde",
   "metadata": {},
   "outputs": [
    {
     "name": "stdout",
     "output_type": "stream",
     "text": [
      "t-statistic =  -0.8833120607364877\n",
      "p-value =  0.37728041298147297\n"
     ]
    }
   ],
   "source": [
    "from scipy.stats import ttest_ind, f_oneway, chi2_contingency\n",
    "\n",
    "group1 = df_sub[df_sub['Gender']=='M']['Yearly_Average_Balance']\n",
    "group2 = df_sub[df_sub['Gender']=='F']['Yearly_Average_Balance']\n",
    "t_stat, p_val = ttest_ind(group1, group2)\n",
    "print(\"t-statistic = \", t_stat)\n",
    "print(\"p-value = \", p_val)"
   ]
  },
  {
   "cell_type": "code",
   "execution_count": 16,
   "id": "c69b1ab4",
   "metadata": {},
   "outputs": [
    {
     "name": "stdout",
     "output_type": "stream",
     "text": [
      "                       sum_sq     df         F   PR(>F)\n",
      "Income_Category  3.029083e+06    5.0  0.937963  0.45541\n",
      "Residual         6.420103e+08  994.0       NaN      NaN\n"
     ]
    }
   ],
   "source": [
    "# ANOVA to compare mean balance across different income levels\n",
    "model = sm.formula.ols('Yearly_Average_Balance ~ Income_Category', data=df_sub).fit()\n",
    "aov_table = sm.stats.anova_lm(model, typ=2)\n",
    "\n",
    "print(aov_table)"
   ]
  },
  {
   "cell_type": "code",
   "execution_count": 17,
   "id": "bc43f01c",
   "metadata": {},
   "outputs": [
    {
     "name": "stdout",
     "output_type": "stream",
     "text": [
      "                              OLS Regression Results                              \n",
      "==================================================================================\n",
      "Dep. Variable:     Yearly_Average_Balance   R-squared:                       0.005\n",
      "Model:                                OLS   Adj. R-squared:                  0.004\n",
      "Method:                     Least Squares   F-statistic:                     4.566\n",
      "Date:                    Wed, 03 May 2023   Prob (F-statistic):             0.0329\n",
      "Time:                            12:44:09   Log-Likelihood:                -8105.2\n",
      "No. Observations:                    1000   AIC:                         1.621e+04\n",
      "Df Residuals:                         998   BIC:                         1.622e+04\n",
      "Df Model:                               1                                         \n",
      "Covariance Type:                nonrobust                                         \n",
      "================================================================================\n",
      "                   coef    std err          t      P>|t|      [0.025      0.975]\n",
      "--------------------------------------------------------------------------------\n",
      "Intercept     1089.8681     35.080     31.068      0.000    1021.028    1158.708\n",
      "Credit_Limit     0.0058      0.003      2.137      0.033       0.000       0.011\n",
      "==============================================================================\n",
      "Omnibus:                      376.508   Durbin-Watson:                   1.864\n",
      "Prob(Omnibus):                  0.000   Jarque-Bera (JB):               52.464\n",
      "Skew:                          -0.107   Prob(JB):                     4.05e-12\n",
      "Kurtosis:                       1.898   Cond. No.                     1.77e+04\n",
      "==============================================================================\n",
      "\n",
      "Notes:\n",
      "[1] Standard Errors assume that the covariance matrix of the errors is correctly specified.\n",
      "[2] The condition number is large, 1.77e+04. This might indicate that there are\n",
      "strong multicollinearity or other numerical problems.\n"
     ]
    }
   ],
   "source": [
    "# Simple linear regression to predict balance based on credit limit\n",
    "model = sm.formula.ols('Yearly_Average_Balance ~ Credit_Limit', data=df_sub).fit()\n",
    "print(model.summary())\n"
   ]
  },
  {
   "cell_type": "code",
   "execution_count": 18,
   "id": "4f626219",
   "metadata": {},
   "outputs": [
    {
     "name": "stdout",
     "output_type": "stream",
     "text": [
      "                              OLS Regression Results                              \n",
      "==================================================================================\n",
      "Dep. Variable:     Yearly_Average_Balance   R-squared:                       0.011\n",
      "Model:                                OLS   Adj. R-squared:                  0.004\n",
      "Method:                     Least Squares   F-statistic:                     1.565\n",
      "Date:                    Wed, 03 May 2023   Prob (F-statistic):              0.142\n",
      "Time:                            12:44:18   Log-Likelihood:                -8102.0\n",
      "No. Observations:                    1000   AIC:                         1.622e+04\n",
      "Df Residuals:                         992   BIC:                         1.626e+04\n",
      "Df Model:                               7                                         \n",
      "Covariance Type:                nonrobust                                         \n",
      "=========================================================================================================\n",
      "                                            coef    std err          t      P>|t|      [0.025      0.975]\n",
      "---------------------------------------------------------------------------------------------------------\n",
      "Intercept                              1024.4359    157.088      6.521      0.000     716.174    1332.698\n",
      "C(Income_Category)[T.$60K - $80K]         5.0510     92.582      0.055      0.957    -176.629     186.731\n",
      "C(Income_Category)[T.$80K - $120K]      -13.2863     96.947     -0.137      0.891    -203.530     176.958\n",
      "C(Income_Category)[T.Less than $40K]    137.5855     76.089      1.808      0.071     -11.728     286.899\n",
      "C(Income_Category)[T.More than $120K]    10.0646    129.854      0.078      0.938    -244.756     264.885\n",
      "C(Income_Category)[T.Unknown]           -30.0432     96.777     -0.310      0.756    -219.955     159.868\n",
      "Credit_Limit                              0.0087      0.003      2.499      0.013       0.002       0.016\n",
      "Age                                      -0.0812      3.126     -0.026      0.979      -6.215       6.053\n",
      "==============================================================================\n",
      "Omnibus:                      360.855   Durbin-Watson:                   1.878\n",
      "Prob(Omnibus):                  0.000   Jarque-Bera (JB):               52.100\n",
      "Skew:                          -0.115   Prob(JB):                     4.86e-12\n",
      "Kurtosis:                       1.906   Cond. No.                     9.20e+04\n",
      "==============================================================================\n",
      "\n",
      "Notes:\n",
      "[1] Standard Errors assume that the covariance matrix of the errors is correctly specified.\n",
      "[2] The condition number is large, 9.2e+04. This might indicate that there are\n",
      "strong multicollinearity or other numerical problems.\n"
     ]
    }
   ],
   "source": [
    "# Multiple linear regression to predict balance based on credit limit, income level, and age\n",
    "model = sm.formula.ols('Yearly_Average_Balance ~ Credit_Limit + Age + C(Income_Category)', data=df_sub).fit()\n",
    "print(model.summary())"
   ]
  },
  {
   "cell_type": "code",
   "execution_count": null,
   "id": "dadfa36d",
   "metadata": {},
   "outputs": [
    {
     "name": "stderr",
     "output_type": "stream",
     "text": [
      "/var/folders/dm/q6sylxfn5nb4qpc1zl4wv7qh0000gn/T/ipykernel_3733/2930022484.py:3: UserWarning: \n",
      "The dash_core_components package is deprecated. Please replace\n",
      "`import dash_core_components as dcc` with `from dash import dcc`\n",
      "  import dash_core_components as dcc\n",
      "/var/folders/dm/q6sylxfn5nb4qpc1zl4wv7qh0000gn/T/ipykernel_3733/2930022484.py:4: UserWarning: \n",
      "The dash_html_components package is deprecated. Please replace\n",
      "`import dash_html_components as html` with `from dash import html`\n",
      "  import dash_html_components as html\n"
     ]
    },
    {
     "name": "stdout",
     "output_type": "stream",
     "text": [
      "Dash is running on http://127.0.0.1:8050/\n",
      "\n",
      " * Serving Flask app \"__main__\" (lazy loading)\n",
      " * Environment: production\n",
      "\u001b[31m   WARNING: This is a development server. Do not use it in a production deployment.\u001b[0m\n",
      "\u001b[2m   Use a production WSGI server instead.\u001b[0m\n",
      " * Debug mode: off\n"
     ]
    },
    {
     "name": "stderr",
     "output_type": "stream",
     "text": [
      " * Running on http://127.0.0.1:8050/ (Press CTRL+C to quit)\n",
      "127.0.0.1 - - [03/May/2023 12:44:38] \"GET / HTTP/1.1\" 200 -\n",
      "127.0.0.1 - - [03/May/2023 12:44:38] \"GET /_dash-component-suites/dash/deps/polyfill@7.v2_8_1m1675174511.12.1.min.js HTTP/1.1\" 200 -\n",
      "127.0.0.1 - - [03/May/2023 12:44:38] \"GET /_dash-component-suites/dash/deps/react@16.v2_8_1m1675174511.14.0.min.js HTTP/1.1\" 200 -\n",
      "127.0.0.1 - - [03/May/2023 12:44:38] \"GET /_dash-component-suites/dash/dash-renderer/build/dash_renderer.v2_8_1m1675174511.min.js HTTP/1.1\" 200 -\n",
      "127.0.0.1 - - [03/May/2023 12:44:38] \"GET /_dash-component-suites/dash/deps/react-dom@16.v2_8_1m1675174511.14.0.min.js HTTP/1.1\" 200 -\n",
      "127.0.0.1 - - [03/May/2023 12:44:38] \"GET /_dash-component-suites/dash/deps/prop-types@15.v2_8_1m1675174511.8.1.min.js HTTP/1.1\" 200 -\n",
      "127.0.0.1 - - [03/May/2023 12:44:38] \"GET /_dash-component-suites/dash/dcc/dash_core_components-shared.v2_8_0m1675174511.js HTTP/1.1\" 200 -\n",
      "127.0.0.1 - - [03/May/2023 12:44:38] \"GET /_dash-component-suites/dash/dcc/dash_core_components.v2_8_0m1675174511.js HTTP/1.1\" 200 -\n",
      "127.0.0.1 - - [03/May/2023 12:44:38] \"GET /_dash-component-suites/dash/html/dash_html_components.v2_0_8m1675174511.min.js HTTP/1.1\" 200 -\n",
      "127.0.0.1 - - [03/May/2023 12:44:38] \"GET /_dash-component-suites/dash/dash_table/bundle.v5_2_2m1675174511.js HTTP/1.1\" 200 -\n",
      "127.0.0.1 - - [03/May/2023 12:44:39] \"GET /_dash-layout HTTP/1.1\" 200 -\n",
      "127.0.0.1 - - [03/May/2023 12:44:39] \"GET /_dash-dependencies HTTP/1.1\" 200 -\n",
      "127.0.0.1 - - [03/May/2023 12:44:39] \"GET /_dash-component-suites/dash/dcc/async-dropdown.js HTTP/1.1\" 200 -\n",
      "127.0.0.1 - - [03/May/2023 12:44:39] \"GET /_favicon.ico?v=2.8.1 HTTP/1.1\" 200 -\n",
      "/Users/aahanmalik/opt/anaconda3/lib/python3.9/site-packages/plotly/express/_core.py:1637: FutureWarning:\n",
      "\n",
      "The frame.append method is deprecated and will be removed from pandas in a future version. Use pandas.concat instead.\n",
      "\n",
      "/Users/aahanmalik/opt/anaconda3/lib/python3.9/site-packages/plotly/express/_core.py:1637: FutureWarning:\n",
      "\n",
      "The frame.append method is deprecated and will be removed from pandas in a future version. Use pandas.concat instead.\n",
      "\n",
      "/Users/aahanmalik/opt/anaconda3/lib/python3.9/site-packages/plotly/express/_core.py:1637: FutureWarning:\n",
      "\n",
      "The frame.append method is deprecated and will be removed from pandas in a future version. Use pandas.concat instead.\n",
      "\n"
     ]
    },
    {
     "name": "stdout",
     "output_type": "stream",
     "text": [
      "   Total_Transactions  Yearly_Transaction_Amount  count\n",
      "0                  10                        530      1\n",
      "1                  10                        741      1\n",
      "2                  14                       1037      1\n",
      "3                  15                        809      1\n",
      "4                  16                       1542      1\n"
     ]
    },
    {
     "name": "stderr",
     "output_type": "stream",
     "text": [
      "127.0.0.1 - - [03/May/2023 12:44:41] \"POST /_dash-update-component HTTP/1.1\" 200 -\n",
      "127.0.0.1 - - [03/May/2023 12:44:41] \"GET /_dash-component-suites/dash/dcc/async-graph.js HTTP/1.1\" 200 -\n",
      "127.0.0.1 - - [03/May/2023 12:44:41] \"GET /_dash-component-suites/dash/dcc/async-plotlyjs.js HTTP/1.1\" 200 -\n"
     ]
    }
   ],
   "source": [
    "import dash         \n",
    "from dash.dependencies import Input, Output, State\n",
    "import dash_core_components as dcc\n",
    "import dash_html_components as html\n",
    "import plotly.express as px\n",
    "\n",
    "import pandas as pd \n",
    "\n",
    "\n",
    "\n",
    "external_stylesheets = ['https://codepen.io/chriddyp/pen/bWLwgP.css']\n",
    "app = dash.Dash(__name__, external_stylesheets=external_stylesheets)\n",
    "\n",
    "app.layout = html.Div([\n",
    "    html.H1(\"Dashboard (Dash Plotly))\", style={\"textAlign\":\"center\"}),\n",
    "    html.Hr(),\n",
    "    html.P(\"Select:\"),\n",
    "    html.Div(html.Div([\n",
    "        dcc.Dropdown(id='Card_Category', clearable=False,\n",
    "                     value=\"Blue\",\n",
    "                     options=[{'label': x, 'value': x} for x in\n",
    "                              df_sub[\"Card_Category\"].unique()]),\n",
    "    ],className=\"two columns\"),className=\"row\"),\n",
    "\n",
    "    html.Div(id=\"output-div\", children=[]),\n",
    "])\n",
    "\n",
    "\n",
    "@app.callback(Output(component_id=\"output-div\", component_property=\"children\"),\n",
    "              Input(component_id=\"Card_Category\", component_property=\"value\"),\n",
    ")\n",
    "def make_graphs(mall_chosen):\n",
    "    # HISTOGRAM\n",
    "    df_hist = df_sub[df_sub[\"Number_of_Dependents\"]==mall_chosen]\n",
    "    fig_hist = px.histogram(df_hist, x=\"Income_Category\")\n",
    "    fig_hist.update_xaxes(categoryorder=\"total descending\")\n",
    "\n",
    "    # STRIP CHART\n",
    "    fig_strip = px.strip(df_hist, x=\"Customer_Status\", y=\"Card_Category\")\n",
    "\n",
    "    # SUNBURST\n",
    "    df_sburst = df_sub.dropna(subset=['Income_Category'])\n",
    "    df_sburst = df_sburst[df_sburst[\"Education_Level\"].isin([\"High School\", \"Graduated\", \"Uneducated\",\"Unknown\",\"College\",\"Post-Graduate\",\"Doctorate\"])]\n",
    "    fig_sunburst = px.sunburst(df_sburst, path=[\"Card_Category\", \"Income_Category\", \"Education_Level\"])\n",
    "\n",
    "    # Empirical Cumulative Distribution\n",
    "    df_ecdf = df_sub[df_sub[\"Gender\"].isin([\"F\",\"M\"])]\n",
    "    fig_ecdf = px.ecdf(df_ecdf, x=\"Income_Category\", color=\"Card_Category\")\n",
    "\n",
    "    # LINE CHART\n",
    "    df_line = df_sub.sort_values(by=[\"Income_Category\"], ascending=True)\n",
    "    df_line = df_line.groupby(\n",
    "        [\"Total_Transactions\", \"Yearly_Transaction_Amount\"]).size().reset_index(name=\"count\")\n",
    "    print(df_line.head())\n",
    "    fig_line = px.line(df_line, x=\"Total_Transactions\", y=\"count\",\n",
    "                       color=\"Yearly_Transaction_Amount\", markers=True)\n",
    "\n",
    "    return [\n",
    "        html.Div([\n",
    "            html.Div([dcc.Graph(figure=fig_hist)], className=\"six columns\"),\n",
    "            html.Div([dcc.Graph(figure=fig_strip)], className=\"six columns\"),\n",
    "        ], className=\"row\"),\n",
    "        html.H2(\"Credit Card Customer\", style={\"textAlign\":\"center\"}),\n",
    "        html.Hr(),\n",
    "        html.Div([\n",
    "            html.Div([dcc.Graph(figure=fig_sunburst)], className=\"six columns\"),\n",
    "            html.Div([dcc.Graph(figure=fig_ecdf)], className=\"six columns\"),\n",
    "        ], className=\"row\"),\n",
    "        html.Div([\n",
    "            html.Div([dcc.Graph(figure=fig_line)], className=\"twelve columns\"),\n",
    "        ], className=\"row\"),\n",
    "    ]\n",
    "\n",
    "\n",
    "if __name__ == '__main__':\n",
    "    app.run_server(debug=False)"
   ]
  },
  {
   "cell_type": "code",
   "execution_count": null,
   "id": "37af4f82",
   "metadata": {},
   "outputs": [],
   "source": []
  }
 ],
 "metadata": {
  "kernelspec": {
   "display_name": "Python 3 (ipykernel)",
   "language": "python",
   "name": "python3"
  },
  "language_info": {
   "codemirror_mode": {
    "name": "ipython",
    "version": 3
   },
   "file_extension": ".py",
   "mimetype": "text/x-python",
   "name": "python",
   "nbconvert_exporter": "python",
   "pygments_lexer": "ipython3",
   "version": "3.9.13"
  }
 },
 "nbformat": 4,
 "nbformat_minor": 5
}
